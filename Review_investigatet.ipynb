{
 "cells": [
  {
   "cell_type": "code",
   "execution_count": 27,
   "metadata": {},
   "outputs": [],
   "source": [
    "import pandas as pd\n",
    "import matplotlib.pyplot as plt\n",
    "import seaborn as sns\n",
    "import numpy as np"
   ]
  },
  {
   "cell_type": "code",
   "execution_count": 28,
   "metadata": {},
   "outputs": [],
   "source": [
    "#load data\n",
    "seattle_review = pd.read_csv('./reviews.csv')"
   ]
  },
  {
   "cell_type": "code",
   "execution_count": 29,
   "metadata": {},
   "outputs": [
    {
     "data": {
      "text/html": [
       "<div>\n",
       "<style scoped>\n",
       "    .dataframe tbody tr th:only-of-type {\n",
       "        vertical-align: middle;\n",
       "    }\n",
       "\n",
       "    .dataframe tbody tr th {\n",
       "        vertical-align: top;\n",
       "    }\n",
       "\n",
       "    .dataframe thead th {\n",
       "        text-align: right;\n",
       "    }\n",
       "</style>\n",
       "<table border=\"1\" class=\"dataframe\">\n",
       "  <thead>\n",
       "    <tr style=\"text-align: right;\">\n",
       "      <th></th>\n",
       "      <th>listing_id</th>\n",
       "      <th>id</th>\n",
       "      <th>date</th>\n",
       "      <th>reviewer_id</th>\n",
       "      <th>reviewer_name</th>\n",
       "      <th>comments</th>\n",
       "    </tr>\n",
       "  </thead>\n",
       "  <tbody>\n",
       "    <tr>\n",
       "      <th>0</th>\n",
       "      <td>7202016</td>\n",
       "      <td>38917982</td>\n",
       "      <td>2015-07-19</td>\n",
       "      <td>28943674</td>\n",
       "      <td>Bianca</td>\n",
       "      <td>Cute and cozy place. Perfect location to every...</td>\n",
       "    </tr>\n",
       "    <tr>\n",
       "      <th>1</th>\n",
       "      <td>7202016</td>\n",
       "      <td>39087409</td>\n",
       "      <td>2015-07-20</td>\n",
       "      <td>32440555</td>\n",
       "      <td>Frank</td>\n",
       "      <td>Kelly has a great room in a very central locat...</td>\n",
       "    </tr>\n",
       "    <tr>\n",
       "      <th>2</th>\n",
       "      <td>7202016</td>\n",
       "      <td>39820030</td>\n",
       "      <td>2015-07-26</td>\n",
       "      <td>37722850</td>\n",
       "      <td>Ian</td>\n",
       "      <td>Very spacious apartment, and in a great neighb...</td>\n",
       "    </tr>\n",
       "    <tr>\n",
       "      <th>3</th>\n",
       "      <td>7202016</td>\n",
       "      <td>40813543</td>\n",
       "      <td>2015-08-02</td>\n",
       "      <td>33671805</td>\n",
       "      <td>George</td>\n",
       "      <td>Close to Seattle Center and all it has to offe...</td>\n",
       "    </tr>\n",
       "    <tr>\n",
       "      <th>4</th>\n",
       "      <td>7202016</td>\n",
       "      <td>41986501</td>\n",
       "      <td>2015-08-10</td>\n",
       "      <td>34959538</td>\n",
       "      <td>Ming</td>\n",
       "      <td>Kelly was a great host and very accommodating ...</td>\n",
       "    </tr>\n",
       "  </tbody>\n",
       "</table>\n",
       "</div>"
      ],
      "text/plain": [
       "   listing_id        id        date  reviewer_id reviewer_name  \\\n",
       "0     7202016  38917982  2015-07-19     28943674        Bianca   \n",
       "1     7202016  39087409  2015-07-20     32440555         Frank   \n",
       "2     7202016  39820030  2015-07-26     37722850           Ian   \n",
       "3     7202016  40813543  2015-08-02     33671805        George   \n",
       "4     7202016  41986501  2015-08-10     34959538          Ming   \n",
       "\n",
       "                                            comments  \n",
       "0  Cute and cozy place. Perfect location to every...  \n",
       "1  Kelly has a great room in a very central locat...  \n",
       "2  Very spacious apartment, and in a great neighb...  \n",
       "3  Close to Seattle Center and all it has to offe...  \n",
       "4  Kelly was a great host and very accommodating ...  "
      ]
     },
     "execution_count": 29,
     "metadata": {},
     "output_type": "execute_result"
    }
   ],
   "source": [
    "# 5 row of the data and columns information.\n",
    "seattle_review.head()"
   ]
  },
  {
   "cell_type": "code",
   "execution_count": 30,
   "metadata": {},
   "outputs": [
    {
     "name": "stdout",
     "output_type": "stream",
     "text": [
      "<class 'pandas.core.frame.DataFrame'>\n",
      "RangeIndex: 84849 entries, 0 to 84848\n",
      "Data columns (total 6 columns):\n",
      " #   Column         Non-Null Count  Dtype \n",
      "---  ------         --------------  ----- \n",
      " 0   listing_id     84849 non-null  int64 \n",
      " 1   id             84849 non-null  int64 \n",
      " 2   date           84849 non-null  object\n",
      " 3   reviewer_id    84849 non-null  int64 \n",
      " 4   reviewer_name  84849 non-null  object\n",
      " 5   comments       84831 non-null  object\n",
      "dtypes: int64(3), object(3)\n",
      "memory usage: 3.9+ MB\n"
     ]
    }
   ],
   "source": [
    "seattle_review.info()"
   ]
  },
  {
   "cell_type": "code",
   "execution_count": 31,
   "metadata": {},
   "outputs": [
    {
     "data": {
      "text/plain": [
       "\"\\nThere are six columns, such as listing_id that received review, id of reviews, when review submitted, and so on.\\nI'm concerned that there are no review scores here. I think it might be in comments, so let's confirm this.\\n\""
      ]
     },
     "execution_count": 31,
     "metadata": {},
     "output_type": "execute_result"
    }
   ],
   "source": [
    "'''\n",
    "There are six columns, such as listing_id that received review, id of reviews, when review submitted, and so on.\n",
    "I'm concerned that there are no review scores here. I think it might be in comments, so let's confirm this.\n",
    "'''"
   ]
  },
  {
   "cell_type": "code",
   "execution_count": 32,
   "metadata": {},
   "outputs": [
    {
     "name": "stdout",
     "output_type": "stream",
     "text": [
      "sample 1:  Cute and cozy place. Perfect location to everything!  \n",
      "\n",
      "sample 2:  Close to Seattle Center and all it has to offer - ballet, theater, museum, Space Needle, restaurants of all ilk just blocks away, and the Metropolitan (probably the coolest grocer you'll ever find). Easy to find and Kelly was warm, welcoming, and really interesting to talk to. \n"
     ]
    }
   ],
   "source": [
    "print(\"sample 1: \", seattle_review.comments.values[0], \"\\n\")\n",
    "print(\"sample 2: \", seattle_review.comments.values[3])"
   ]
  },
  {
   "cell_type": "code",
   "execution_count": 33,
   "metadata": {},
   "outputs": [
    {
     "data": {
      "text/plain": [
       "'\\nFrom the above, the review score seems not to be included.\\n'"
      ]
     },
     "execution_count": 33,
     "metadata": {},
     "output_type": "execute_result"
    }
   ],
   "source": [
    "'''\n",
    "From the above, the review score seems not to be included.\n",
    "'''"
   ]
  },
  {
   "cell_type": "code",
   "execution_count": 34,
   "metadata": {},
   "outputs": [
    {
     "data": {
      "text/plain": [
       "'\\nNext, I want to see the time series change of the number of comments.\\n'"
      ]
     },
     "execution_count": 34,
     "metadata": {},
     "output_type": "execute_result"
    }
   ],
   "source": [
    "'''\n",
    "Next, I want to see the time series change of the number of comments.\n",
    "'''"
   ]
  },
  {
   "cell_type": "code",
   "execution_count": 35,
   "metadata": {},
   "outputs": [
    {
     "data": {
      "image/png": "[encoded data removed]",
      "text/plain": [
       "<Figure size 1080x576 with 1 Axes>"
      ]
     },
     "metadata": {
      "needs_background": "light"
     },
     "output_type": "display_data"
    }
   ],
   "source": [
    "# convert date column's data type to date from object\n",
    "review_q1_df = seattle_review.copy(deep=True)\n",
    "review_q1_df.date = pd.to_datetime(review_q1_df.date)\n",
    "\n",
    "review_q1_df = review_q1_df.groupby('date')['id'].count().reset_index()\n",
    "\n",
    "# plot avg listings prices over time.\n",
    "plt.figure(figsize=(15, 8))\n",
    "plt.plot(review_q1_df.date, review_q1_df.id, color='b', linewidth=0.9)\n",
    "plt.title(\"Number of reviews by date\")\n",
    "plt.xlabel('date')\n",
    "plt.ylabel('number of reviews')\n",
    "plt.grid()"
   ]
  },
  {
   "cell_type": "code",
   "execution_count": 36,
   "metadata": {},
   "outputs": [
    {
     "data": {
      "text/plain": [
       "\"\\nIt is little noisy, but we can see an increase in the number of Airbnb users. (and the date range is wide than calendar data)\\nAnd I realize it seems to have a peak at about the same time of each year.\\nSo, let's use moving averages to smooth the graph.\\n\""
      ]
     },
     "execution_count": 36,
     "metadata": {},
     "output_type": "execute_result"
    }
   ],
   "source": [
    "'''\n",
    "It is little noisy, but we can see an increase in the number of Airbnb users. (and the date range is wide than calendar data)\n",
    "And I realize it seems to have a peak at about the same time of each year.\n",
    "So, let's use moving averages to smooth the graph.\n",
    "'''"
   ]
  },
  {
   "cell_type": "code",
   "execution_count": 37,
   "metadata": {},
   "outputs": [
    {
     "data": {
      "image/png": "[encoded data removed]",
      "text/plain": [
       "<Figure size 1080x576 with 1 Axes>"
      ]
     },
     "metadata": {
      "needs_background": "light"
     },
     "output_type": "display_data"
    }
   ],
   "source": [
    "# create rolling mean column\n",
    "review_q1_df[\"rolling_mean_30\"] = review_q1_df.id.rolling(window=30).mean()# apply in 30 days\n",
    "\n",
    "# plot avg listings prices over time.\n",
    "plt.figure(figsize=(15, 8))\n",
    "plt.plot(review_q1_df.date, review_q1_df.rolling_mean_30, color='b', linewidth=2.0)\n",
    "plt.title(\"Number of reviews by date\")\n",
    "plt.xlabel('date')\n",
    "plt.ylabel('number of reviews')\n",
    "plt.grid()"
   ]
  },
  {
   "cell_type": "code",
   "execution_count": 38,
   "metadata": {},
   "outputs": [
    {
     "data": {
      "text/plain": [
       "'\\nI tried thirty days (about 1 month) window.\\nThe graph became smooth and the trend became clear, and my belief that the peaks were in the same place became stronger.\\nNext, I extract when the peak comes in each year.\\n'"
      ]
     },
     "execution_count": 38,
     "metadata": {},
     "output_type": "execute_result"
    }
   ],
   "source": [
    "'''\n",
    "I tried thirty days (about 1 month) window.\n",
    "The graph became smooth and the trend became clear, and my belief that the peaks were in the same place became stronger.\n",
    "Next, I extract when the peak comes in each year.\n",
    "'''"
   ]
  },
  {
   "cell_type": "code",
   "execution_count": 39,
   "metadata": {},
   "outputs": [
    {
     "name": "stdout",
     "output_type": "stream",
     "text": [
      "2010 2010-10-04 2.3\n",
      "2011 2011-08-31 7.0\n",
      "2012 2012-09-04 16.2\n",
      "2013 2013-09-04 37.0\n",
      "2014 2014-09-03 112.6\n",
      "2015 2015-09-05 261.6\n"
     ]
    }
   ],
   "source": [
    "review_q1_df[\"year\"] = review_q1_df.date.dt.year\n",
    "years = review_q1_df.year.unique()\n",
    "\n",
    "for year in years:\n",
    "    if year >= 2010 and year < 2016:\n",
    "        year_df = review_q1_df[review_q1_df.year == year]\n",
    "        max_value = year_df.rolling_mean_30.max()\n",
    "        max_date = year_df[year_df.rolling_mean_30 == max_value].date.dt.date.values[0]\n",
    "        print(year, max_date, np.round(max_value, 1))"
   ]
  },
  {
   "cell_type": "code",
   "execution_count": 40,
   "metadata": {},
   "outputs": [
    {
     "data": {
      "text/plain": [
       "'\\nMy hypothesis is correct.\\nThe peak seems to be towards the beginning of September!! Is this summer vacation?\\n'"
      ]
     },
     "execution_count": 40,
     "metadata": {},
     "output_type": "execute_result"
    }
   ],
   "source": [
    "'''\n",
    "My hypothesis is correct.\n",
    "The peak seems to be towards the beginning of September!! Is this summer vacation?\n",
    "'''"
   ]
  },
  {
   "cell_type": "code",
   "execution_count": 41,
   "metadata": {},
   "outputs": [
    {
     "data": {
      "text/plain": [
       "\"\\nUp to this point, I can answer two of the three questions mentioned at the beginning. First of all, let's answer from the question. How long is the period available for lending by rooms?\\n\\nThis was shown when investigating listing data. There were two groups in listings. It's a listing available at spots with a maximum nights less than a week and a listing of a sense of renting available for up to three years.\\n\\nFor a further discussion, plot a scatter plot of maximum nights and minimum nights.\\n\""
      ]
     },
     "execution_count": 41,
     "metadata": {},
     "output_type": "execute_result"
    }
   ],
   "source": [
    "'''\n",
    "Up to this point, I can answer two of the three questions mentioned at the beginning. First of all, let's answer from the question. How long is the period available for lending by rooms?\n",
    "\n",
    "This was shown when investigating listing data. There were two groups in listings. It's a listing available at spots with a maximum nights less than a week and a listing of a sense of renting available for up to three years.\n",
    "\n",
    "For a further discussion, plot a scatter plot of maximum nights and minimum nights.\n",
    "'''"
   ]
  },
  {
   "cell_type": "code",
   "execution_count": 42,
   "metadata": {},
   "outputs": [
    {
     "data": {
      "text/plain": [
       "\"\\nLet's answer the second question.\\nIs there a busy season?\\n\\nIt can not be said exactly because the actual duration of the user's stay are not included in the data, but the number of reviews is considered to be a guide. In addition, since periodical peaks appear in the number of reviews annually, it may be considered that the neighborhood is a busy season.\\n\\nWe found that the biggest busy season was the beginning of September, but how long will it be the busy season? Let's look in more detail!\\n\""
      ]
     },
     "execution_count": 42,
     "metadata": {},
     "output_type": "execute_result"
    }
   ],
   "source": [
    "'''\n",
    "Let's answer the second question.\n",
    "Is there a busy season?\n",
    "\n",
    "It can not be said exactly because the actual duration of the user's stay are not included in the data, but the number of reviews is considered to be a guide. In addition, since periodical peaks appear in the number of reviews annually, it may be considered that the neighborhood is a busy season.\n",
    "\n",
    "We found that the biggest busy season was the beginning of September, but how long will it be the busy season? Let's look in more detail!\n",
    "'''"
   ]
  },
  {
   "cell_type": "code",
   "execution_count": 43,
   "metadata": {},
   "outputs": [
    {
     "data": {
      "image/png": "[encoded data removed]",
      "text/plain": [
       "<Figure size 1080x576 with 1 Axes>"
      ]
     },
     "metadata": {
      "needs_background": "light"
     },
     "output_type": "display_data"
    }
   ],
   "source": [
    "review_q2_df = review_q1_df[review_q1_df.year == 2015]\n",
    "\n",
    "plt.figure(figsize=(15, 8))\n",
    "plt.plot(review_q2_df.date, review_q2_df.rolling_mean_30, color='b', linewidth=2.0)\n",
    "plt.title(\"Number of reviews by date\")\n",
    "plt.grid()"
   ]
  },
  {
   "cell_type": "code",
   "execution_count": 44,
   "metadata": {},
   "outputs": [
    {
     "data": {
      "text/plain": [
       "\"\\nIt's hard to say clearly when to begin and when to end.\\nBut, from here it may be able to say the busy season is One month before and after from September.\\n\""
      ]
     },
     "execution_count": 44,
     "metadata": {},
     "output_type": "execute_result"
    }
   ],
   "source": [
    "'''\n",
    "It's hard to say clearly when to begin and when to end.\n",
    "But, from here it may be able to say the busy season is One month before and after from September.\n",
    "'''"
   ]
  },
  {
   "cell_type": "code",
   "execution_count": 45,
   "metadata": {},
   "outputs": [
    {
     "data": {
      "text/plain": [
       "'\\nFrom here, I want to answer the last question, \"Are there any trends of popular rooms?\".\\nSo, Let\\'s begin to clean and process the listing data.\\n'"
      ]
     },
     "execution_count": 45,
     "metadata": {},
     "output_type": "execute_result"
    }
   ],
   "source": [
    "'''\n",
    "From here, I want to answer the last question, \"Are there any trends of popular rooms?\".\n",
    "So, Let's begin to clean and process the listing data.\n",
    "'''"
   ]
  },
  {
   "cell_type": "code",
   "execution_count": 46,
   "metadata": {},
   "outputs": [
    {
     "data": {
      "text/plain": [
       "\"\\nFirst, we need to define the target variable 'Popular of listings'. I thought this could be defined as follows.\\n\\n[Actual number of times rent] / ([Available days from 2016 to 2017] * (2017 - [Year of the listings open]))\\n\""
      ]
     },
     "execution_count": 46,
     "metadata": {},
     "output_type": "execute_result"
    }
   ],
   "source": [
    "'''\n",
    "First, we need to define the target variable 'Popular of listings'. I thought this could be defined as follows.\n",
    "\n",
    "[Actual number of times rent] / ([Available days from 2016 to 2017] * (2017 - [Year of the listings open]))\n",
    "'''"
   ]
  },
  {
   "cell_type": "code",
   "execution_count": 47,
   "metadata": {},
   "outputs": [
    {
     "data": {
      "text/plain": [
       "'\\nSince the number of times the listings are actually rent is considered to be proportional to the number of days the property is available, it needs to be scaled, and Furthermore, since the number is considered to increase the earlier the listings is released to the public, we need to scale there as well.\\n\\nOne thing I can not consider here is the period when the listings was actually rented. The longer the period of rending, the smaller the number of times of rending. However, there are no data to consider this, so I will assume that most of Airbnb users are short-term use.\\n\\nFirst, we start with a check for null values. This is because we can not use columns that has too null values.\\n'"
      ]
     },
     "execution_count": 47,
     "metadata": {},
     "output_type": "execute_result"
    }
   ],
   "source": [
    "'''\n",
    "Since the number of times the listings are actually rent is considered to be proportional to the number of days the property is available, it needs to be scaled, and Furthermore, since the number is considered to increase the earlier the listings is released to the public, we need to scale there as well.\n",
    "\n",
    "One thing I can not consider here is the period when the listings was actually rented. The longer the period of rending, the smaller the number of times of rending. However, there are no data to consider this, so I will assume that most of Airbnb users are short-term use.\n",
    "\n",
    "First, we start with a check for null values. This is because we can not use columns that has too null values.\n",
    "'''"
   ]
  },
  {
   "cell_type": "code",
   "execution_count": 48,
   "metadata": {},
   "outputs": [],
   "source": [
    "seattle_listing = pd.read_csv('./listings.csv')\n",
    "prepare_df = seattle_listing.copy(deep=True)"
   ]
  },
  {
   "cell_type": "code",
   "execution_count": 49,
   "metadata": {},
   "outputs": [
    {
     "name": "stdout",
     "output_type": "stream",
     "text": [
      "summary has 177 null values (4.64%)\n",
      "space has 569 null values (14.9%)\n",
      "neighborhood_overview has 1032 null values (27.03%)\n",
      "notes has 1606 null values (42.06%)\n",
      "transit has 934 null values (24.46%)\n",
      "thumbnail_url has 320 null values (8.38%)\n",
      "medium_url has 320 null values (8.38%)\n",
      "xl_picture_url has 320 null values (8.38%)\n",
      "host_name has 2 null values (0.05%)\n",
      "host_since has 2 null values (0.05%)\n",
      "host_location has 8 null values (0.21%)\n",
      "host_about has 859 null values (22.5%)\n",
      "host_response_time has 523 null values (13.7%)\n",
      "host_response_rate has 523 null values (13.7%)\n",
      "host_acceptance_rate has 773 null values (20.25%)\n",
      "host_is_superhost has 2 null values (0.05%)\n",
      "host_thumbnail_url has 2 null values (0.05%)\n",
      "host_picture_url has 2 null values (0.05%)\n",
      "host_neighbourhood has 300 null values (7.86%)\n",
      "host_listings_count has 2 null values (0.05%)\n",
      "host_total_listings_count has 2 null values (0.05%)\n",
      "host_has_profile_pic has 2 null values (0.05%)\n",
      "host_identity_verified has 2 null values (0.05%)\n",
      "neighbourhood has 416 null values (10.9%)\n",
      "zipcode has 7 null values (0.18%)\n",
      "property_type has 1 null values (0.03%)\n",
      "bathrooms has 16 null values (0.42%)\n",
      "bedrooms has 6 null values (0.16%)\n",
      "beds has 1 null values (0.03%)\n",
      "square_feet has 3721 null values (97.46%)\n",
      "weekly_price has 1809 null values (47.38%)\n",
      "monthly_price has 2301 null values (60.27%)\n",
      "security_deposit has 1952 null values (51.13%)\n",
      "cleaning_fee has 1030 null values (26.98%)\n",
      "first_review has 627 null values (16.42%)\n",
      "last_review has 627 null values (16.42%)\n",
      "review_scores_rating has 647 null values (16.95%)\n",
      "review_scores_accuracy has 658 null values (17.23%)\n",
      "review_scores_cleanliness has 653 null values (17.1%)\n",
      "review_scores_checkin has 658 null values (17.23%)\n",
      "review_scores_communication has 651 null values (17.05%)\n",
      "review_scores_location has 655 null values (17.16%)\n",
      "review_scores_value has 656 null values (17.18%)\n",
      "license has 3818 null values (100.0%)\n",
      "reviews_per_month has 627 null values (16.42%)\n"
     ]
    }
   ],
   "source": [
    "# check null count\n",
    "df_length = prepare_df.shape[0]\n",
    "\n",
    "for col in prepare_df.columns:\n",
    "    null_count = prepare_df[col].isnull().sum()\n",
    "    if null_count == 0:\n",
    "        continue\n",
    "        \n",
    "    null_ratio = np.round(null_count/df_length * 100, 2)\n",
    "    print(\"{} has {} null values ({}%)\".format(col, null_count, null_ratio))"
   ]
  },
  {
   "cell_type": "code",
   "execution_count": 50,
   "metadata": {},
   "outputs": [
    {
     "data": {
      "text/plain": [
       "'\\nAs you can see, it seems that there are columns 90% or more of the values are null, but most of the columns have between 0-30% of null_ratio. Therefore, here, I decided to excluded from analysis the columns with 30% or more null ratio.\\n\\nAlso, it seems that there are only two null values in host_since used to calculate the target variable. This needs to be removed.\\n'"
      ]
     },
     "execution_count": 50,
     "metadata": {},
     "output_type": "execute_result"
    }
   ],
   "source": [
    "'''\n",
    "As you can see, it seems that there are columns 90% or more of the values are null, but most of the columns have between 0-30% of null_ratio. Therefore, here, I decided to excluded from analysis the columns with 30% or more null ratio.\n",
    "\n",
    "Also, it seems that there are only two null values in host_since used to calculate the target variable. This needs to be removed.\n",
    "'''"
   ]
  },
  {
   "cell_type": "code",
   "execution_count": 51,
   "metadata": {},
   "outputs": [
    {
     "name": "stdout",
     "output_type": "stream",
     "text": [
      "summary has 177 null values (4.64%)\n",
      "space has 568 null values (14.88%)\n",
      "neighborhood_overview has 1031 null values (27.0%)\n",
      "transit has 933 null values (24.44%)\n",
      "thumbnail_url has 320 null values (8.38%)\n",
      "medium_url has 320 null values (8.38%)\n",
      "xl_picture_url has 320 null values (8.38%)\n",
      "host_location has 6 null values (0.16%)\n",
      "host_about has 857 null values (22.45%)\n",
      "host_response_time has 521 null values (13.65%)\n",
      "host_response_rate has 521 null values (13.65%)\n",
      "host_acceptance_rate has 771 null values (20.19%)\n",
      "host_neighbourhood has 298 null values (7.81%)\n",
      "neighbourhood has 416 null values (10.9%)\n",
      "zipcode has 7 null values (0.18%)\n",
      "property_type has 1 null values (0.03%)\n",
      "bathrooms has 16 null values (0.42%)\n",
      "bedrooms has 6 null values (0.16%)\n",
      "beds has 1 null values (0.03%)\n",
      "cleaning_fee has 1029 null values (26.95%)\n",
      "first_review has 625 null values (16.37%)\n",
      "last_review has 625 null values (16.37%)\n",
      "review_scores_rating has 645 null values (16.89%)\n",
      "review_scores_accuracy has 656 null values (17.18%)\n",
      "review_scores_cleanliness has 651 null values (17.05%)\n",
      "review_scores_checkin has 656 null values (17.18%)\n",
      "review_scores_communication has 649 null values (17.0%)\n",
      "review_scores_location has 653 null values (17.1%)\n",
      "review_scores_value has 654 null values (17.13%)\n",
      "reviews_per_month has 625 null values (16.37%)\n"
     ]
    }
   ],
   "source": [
    "# detect need drop columns\n",
    "drop_cols = [col for col in prepare_df.columns if prepare_df[col].isnull().sum()/df_length >= 0.3]\n",
    "\n",
    "# drop null\n",
    "prepare_df.drop(drop_cols, axis=1, inplace=True)\n",
    "prepare_df.dropna(subset=['host_since'], inplace=True)\n",
    "\n",
    "# check after\n",
    "for col in prepare_df.columns:\n",
    "    null_count = prepare_df[col].isnull().sum()\n",
    "    if null_count == 0:\n",
    "        continue\n",
    "        \n",
    "    null_ratio = np.round(null_count/df_length * 100, 2)\n",
    "    print(\"{} has {} null values ({}%)\".format(col, null_count, null_ratio))"
   ]
  },
  {
   "cell_type": "code",
   "execution_count": 52,
   "metadata": {},
   "outputs": [
    {
     "data": {
      "text/plain": [
       "'\\nNext, we will delete the column that seems not to be a feature of ease of borrowing. Since we do not include natural language processing this time, we will also delete comment-based columns.\\n'"
      ]
     },
     "execution_count": 52,
     "metadata": {},
     "output_type": "execute_result"
    }
   ],
   "source": [
    "'''\n",
    "Next, we will delete the column that seems not to be a feature of ease of borrowing. Since we do not include natural language processing this time, we will also delete comment-based columns.\n",
    "'''"
   ]
  },
  {
   "cell_type": "code",
   "execution_count": 53,
   "metadata": {},
   "outputs": [],
   "source": [
    "drop_cols = ['listing_url', 'scrape_id', 'last_scraped', 'name', 'summary', 'space', 'description', 'neighborhood_overview',\n",
    "                'transit', 'medium_url', 'picture_url', 'xl_picture_url', 'host_id', 'host_url', 'host_name', 'host_about', 'host_thumbnail_url',\n",
    "                'host_picture_url', 'street', 'city', 'state', 'zipcode', 'market', 'smart_location', 'country_code', 'country', 'latitude', 'longitude',\n",
    "                'calendar_updated', 'calendar_last_scraped', 'first_review', 'last_review', 'amenities', 'host_verifications']\n",
    "\n",
    "prepare_df.drop(drop_cols, axis=1, inplace=True)"
   ]
  },
  {
   "cell_type": "code",
   "execution_count": 54,
   "metadata": {},
   "outputs": [
    {
     "data": {
      "text/plain": [
       "'\\nFurthermore, delete columns that have only a single value, because the feature value does not make sense.\\n'"
      ]
     },
     "execution_count": 54,
     "metadata": {},
     "output_type": "execute_result"
    }
   ],
   "source": [
    "'''\n",
    "Furthermore, delete columns that have only a single value, because the feature value does not make sense.\n",
    "'''"
   ]
  },
  {
   "cell_type": "code",
   "execution_count": 55,
   "metadata": {},
   "outputs": [
    {
     "data": {
      "text/plain": [
       "Index(['id', 'thumbnail_url', 'host_since', 'host_location',\n",
       "       'host_response_time', 'host_response_rate', 'host_acceptance_rate',\n",
       "       'host_is_superhost', 'host_neighbourhood', 'host_listings_count',\n",
       "       'host_total_listings_count', 'host_has_profile_pic',\n",
       "       'host_identity_verified', 'neighbourhood', 'neighbourhood_cleansed',\n",
       "       'neighbourhood_group_cleansed', 'is_location_exact', 'property_type',\n",
       "       'room_type', 'accommodates', 'bathrooms', 'bedrooms', 'beds',\n",
       "       'bed_type', 'price', 'cleaning_fee', 'guests_included', 'extra_people',\n",
       "       'minimum_nights', 'maximum_nights', 'availability_30',\n",
       "       'availability_60', 'availability_90', 'availability_365',\n",
       "       'number_of_reviews', 'review_scores_rating', 'review_scores_accuracy',\n",
       "       'review_scores_cleanliness', 'review_scores_checkin',\n",
       "       'review_scores_communication', 'review_scores_location',\n",
       "       'review_scores_value', 'instant_bookable', 'cancellation_policy',\n",
       "       'require_guest_profile_picture', 'require_guest_phone_verification',\n",
       "       'calculated_host_listings_count', 'reviews_per_month'],\n",
       "      dtype='object')"
      ]
     },
     "execution_count": 55,
     "metadata": {},
     "output_type": "execute_result"
    }
   ],
   "source": [
    "drop_cols = []\n",
    "for col in prepare_df.columns:\n",
    "    if prepare_df[col].nunique() == 1:\n",
    "        drop_cols.append(col)\n",
    "        \n",
    "prepare_df.drop(drop_cols, axis=1, inplace=True)\n",
    "prepare_df.columns"
   ]
  },
  {
   "cell_type": "code",
   "execution_count": 56,
   "metadata": {},
   "outputs": [
    {
     "data": {
      "text/plain": [
       "'\\nNow I almost finished remove columns that is not used for anallysis. So next, I create target valuable.\\n'"
      ]
     },
     "execution_count": 56,
     "metadata": {},
     "output_type": "execute_result"
    }
   ],
   "source": [
    "'''\n",
    "Now I almost finished remove columns that is not used for anallysis. So next, I create target valuable.\n",
    "'''"
   ]
  },
  {
   "cell_type": "code",
   "execution_count": 57,
   "metadata": {},
   "outputs": [],
   "source": [
    "#load data\n",
    "seattle_calendar = pd.read_csv('./calendar.csv')\n",
    "# available days count each listings\n",
    "listing_avalilable = seattle_calendar.groupby('listing_id')['price'].count().reset_index()\n",
    "listing_avalilable.columns = [\"id\", \"available_count\"]\n",
    "\n",
    "# merge\n",
    "prepare_df = prepare_df.merge(listing_avalilable, how='left', on='id')\n",
    "\n",
    "# create target column\n",
    "prepare_df['host_since_year'] = pd.to_datetime(prepare_df['host_since']).dt.year\n",
    "prepare_df[\"easily_accomodated\"] = prepare_df.accommodates / (prepare_df.available_count+1) / (2017 - prepare_df.host_since_year)"
   ]
  },
  {
   "cell_type": "code",
   "execution_count": 58,
   "metadata": {},
   "outputs": [
    {
     "name": "stdout",
     "output_type": "stream",
     "text": [
      "Before: 51 columns\n",
      "After: 39 columns\n"
     ]
    }
   ],
   "source": [
    "print(\"Before: {} columns\".format(prepare_df.shape[1]))\n",
    "\n",
    "drop_cols = ['host_since', 'accommodates', 'availability_30', 'availability_60', 'availability_90', 'availability_365',\n",
    "                'number_of_reviews', 'review_scores_rating', 'available_count', 'reviews_per_month', 'host_since_year', 'review_scores_value']\n",
    "\n",
    "prepare_df.drop(drop_cols, axis=1, inplace=True)\n",
    "print(\"After: {} columns\".format(prepare_df.shape[1]))"
   ]
  },
  {
   "cell_type": "code",
   "execution_count": 59,
   "metadata": {},
   "outputs": [
    {
     "data": {
      "text/plain": [
       "'\\nFrom here, I will turn the data into a form that the model can learn.\\nFirst, I will convert the category valuables to dummy valuables.\\n'"
      ]
     },
     "execution_count": 59,
     "metadata": {},
     "output_type": "execute_result"
    }
   ],
   "source": [
    "'''\n",
    "From here, I will turn the data into a form that the model can learn.\n",
    "First, I will convert the category valuables to dummy valuables.\n",
    "'''"
   ]
  },
  {
   "cell_type": "code",
   "execution_count": 60,
   "metadata": {},
   "outputs": [],
   "source": [
    "# convert true or false value to 1 or 0\n",
    "dummy_cols = ['host_is_superhost', 'require_guest_phone_verification', 'require_guest_profile_picture', 'instant_bookable', \n",
    "              'host_has_profile_pic', 'host_identity_verified', 'is_location_exact']\n",
    "\n",
    "for col in dummy_cols:\n",
    "    prepare_df[col] = prepare_df[col].map(lambda x: 1 if x == 't' else 0)\n",
    "\n",
    "# create dummy valuables\n",
    "dummy_cols = ['host_location', 'host_neighbourhood', 'neighbourhood', 'neighbourhood_cleansed', 'neighbourhood_group_cleansed',\n",
    "             'property_type', 'room_type', 'bed_type', 'cancellation_policy', 'host_response_time']\n",
    "\n",
    "prepare_df = pd.get_dummies(prepare_df, columns=dummy_cols, dummy_na=True)"
   ]
  },
  {
   "cell_type": "code",
   "execution_count": 61,
   "metadata": {},
   "outputs": [
    {
     "name": "stdout",
     "output_type": "stream",
     "text": [
      "thumbnail_url has 320 null values (8.39%)\n",
      "host_response_rate has 521 null values (13.65%)\n",
      "host_acceptance_rate has 771 null values (20.2%)\n",
      "bathrooms has 16 null values (0.42%)\n",
      "bedrooms has 6 null values (0.16%)\n",
      "beds has 1 null values (0.03%)\n",
      "cleaning_fee has 1029 null values (26.97%)\n",
      "review_scores_accuracy has 656 null values (17.19%)\n",
      "review_scores_cleanliness has 651 null values (17.06%)\n",
      "review_scores_checkin has 656 null values (17.19%)\n",
      "review_scores_communication has 649 null values (17.01%)\n",
      "review_scores_location has 653 null values (17.11%)\n"
     ]
    }
   ],
   "source": [
    "df_length = prepare_df.shape[0]\n",
    "\n",
    "for col in prepare_df.columns:\n",
    "    null_count = prepare_df[col].isnull().sum()\n",
    "    if null_count == 0:\n",
    "        continue\n",
    "        \n",
    "    null_ratio = np.round(null_count/df_length * 100, 2)\n",
    "    print(\"{} has {} null values ({}%)\".format(col, null_count, null_ratio))"
   ]
  },
  {
   "cell_type": "code",
   "execution_count": 62,
   "metadata": {},
   "outputs": [],
   "source": [
    "prepare_df[\"is_thumbnail_setted\"] = 1 - prepare_df.thumbnail_url.isnull()\n",
    "prepare_df.drop('thumbnail_url', axis=1, inplace=True)\n",
    "prepare_df.host_response_rate = prepare_df.host_response_rate.fillna('0%').map(lambda x: float(x[:-1]))\n",
    "prepare_df.host_acceptance_rate = prepare_df.host_acceptance_rate.fillna('0%').map(lambda x: float(x[:-1]))\n",
    "prepare_df.bathrooms.fillna(0, inplace=True)\n",
    "prepare_df.bedrooms.fillna(0, inplace=True)\n",
    "prepare_df.beds.fillna(0, inplace=True)\n",
    "prepare_df.cleaning_fee.fillna('$0', inplace=True)\n",
    "prepare_df.review_scores_accuracy.fillna(0, inplace=True)\n",
    "prepare_df.review_scores_cleanliness.fillna(0, inplace=True)\n",
    "prepare_df.review_scores_checkin.fillna(0, inplace=True)\n",
    "prepare_df.review_scores_communication.fillna(0, inplace=True)\n",
    "prepare_df.review_scores_location.fillna(0, inplace=True)"
   ]
  },
  {
   "cell_type": "code",
   "execution_count": 63,
   "metadata": {},
   "outputs": [
    {
     "data": {
      "text/plain": [
       "\"\\nFinally, since the value to be acted as a numeric value is recognized as a string, so let's convert it.\\n\""
      ]
     },
     "execution_count": 63,
     "metadata": {},
     "output_type": "execute_result"
    }
   ],
   "source": [
    "'''\n",
    "Finally, since the value to be acted as a numeric value is recognized as a string, so let's convert it.\n",
    "'''"
   ]
  },
  {
   "cell_type": "code",
   "execution_count": 64,
   "metadata": {},
   "outputs": [
    {
     "name": "stdout",
     "output_type": "stream",
     "text": [
      "price\n",
      "cleaning_fee\n",
      "extra_people\n"
     ]
    }
   ],
   "source": [
    "for col in prepare_df.columns:\n",
    "    if prepare_df[col].dtypes == 'object':\n",
    "        print(col)"
   ]
  },
  {
   "cell_type": "code",
   "execution_count": 65,
   "metadata": {},
   "outputs": [],
   "source": [
    "prepare_df.price = prepare_df.price.map(lambda x: float(x[1:].replace(',', '')))\n",
    "prepare_df.cleaning_fee = prepare_df.cleaning_fee.map(lambda x: float(x[1:].replace(',', '')))\n",
    "prepare_df.extra_people = prepare_df.extra_people.map(lambda x: float(x[1:].replace(',', '')))"
   ]
  },
  {
   "cell_type": "code",
   "execution_count": null,
   "metadata": {},
   "outputs": [],
   "source": [
    "'''\n",
    "Modeling, Evaluation\n",
    "'''"
   ]
  },
  {
   "cell_type": "code",
   "execution_count": null,
   "metadata": {},
   "outputs": [],
   "source": [
    "'''\n",
    "This problem is regression. I'll use random forest regressor here, and use cross validation to evaluation.\n",
    "'''"
   ]
  },
  {
   "cell_type": "code",
   "execution_count": 67,
   "metadata": {},
   "outputs": [],
   "source": [
    "from sklearn.ensemble import RandomForestRegressor\n",
    "from sklearn.model_selection import cross_val_score\n",
    "\n",
    "X = prepare_df.drop(['id', 'easily_accomodated'], axis=1)\n",
    "y = prepare_df.easily_accomodated.values\n",
    "\n",
    "rf = RandomForestRegressor(n_estimators=100, max_depth=5)\n",
    "scores = cross_val_score(rf, X, y, cv=5)"
   ]
  },
  {
   "cell_type": "code",
   "execution_count": 68,
   "metadata": {},
   "outputs": [
    {
     "data": {
      "text/plain": [
       "array([-0.12322239,  0.09560802,  0.05803194, -0.00380352,  0.13283431])"
      ]
     },
     "execution_count": 68,
     "metadata": {},
     "output_type": "execute_result"
    }
   ],
   "source": [
    "scores"
   ]
  },
  {
   "cell_type": "code",
   "execution_count": null,
   "metadata": {},
   "outputs": [],
   "source": [
    "'''\n",
    "I can not predict at all. Why?\n",
    "To consider why, let's make a scatter plot of predicted and actual values.\n",
    "'''"
   ]
  },
  {
   "cell_type": "code",
   "execution_count": 69,
   "metadata": {},
   "outputs": [],
   "source": [
    "rf.fit(X, y)\n",
    "predictions = rf.predict(X)"
   ]
  },
  {
   "cell_type": "code",
   "execution_count": 70,
   "metadata": {},
   "outputs": [
    {
     "data": {
      "image/png": "[encoded data removed]",
      "text/plain": [
       "<Figure size 576x576 with 1 Axes>"
      ]
     },
     "metadata": {
      "needs_background": "light"
     },
     "output_type": "display_data"
    }
   ],
   "source": [
    "plt.figure(figsize=(8, 8))\n",
    "\n",
    "plt.plot((0, 4), (0, 4), color='gray')\n",
    "plt.plot(y, predictions, linewidth=0, marker='o', alpha=0.5)\n",
    "plt.grid()\n",
    "plt.xlim((-0.2, 4.2))\n",
    "plt.ylim((-0.2, 4.2))\n",
    "plt.xlabel(\"Actual values\")\n",
    "plt.ylabel(\"Predicted values\")\n",
    "plt.show()"
   ]
  },
  {
   "cell_type": "code",
   "execution_count": null,
   "metadata": {},
   "outputs": [],
   "source": [
    "'''\n",
    "The closer to the gray line, the more accurate the predicted value is.\n",
    "Then, at first glance I can understand the predocted values are not accurate.\n",
    "In addition, it is also understood that the prediction is pulled to a small value near 0, and a small prediction is made for the larger value.\n",
    "\n",
    "Let's try logarithmic transformation of the target variable.\n",
    "'''"
   ]
  },
  {
   "cell_type": "code",
   "execution_count": 71,
   "metadata": {},
   "outputs": [
    {
     "name": "stdout",
     "output_type": "stream",
     "text": [
      "[0.25067843 0.13906474 0.16022041 0.10072993 0.194383  ]\n"
     ]
    }
   ],
   "source": [
    "X = prepare_df.drop(['id', 'easily_accomodated'], axis=1)\n",
    "y = np.log(prepare_df.easily_accomodated.values)\n",
    "\n",
    "rf = RandomForestRegressor(n_estimators=100, max_depth=5)\n",
    "scores = cross_val_score(rf, X, y, cv=5)\n",
    "print(scores)"
   ]
  },
  {
   "cell_type": "code",
   "execution_count": 72,
   "metadata": {},
   "outputs": [],
   "source": [
    "rf.fit(X, y)\n",
    "predictions = rf.predict(X)"
   ]
  },
  {
   "cell_type": "code",
   "execution_count": 73,
   "metadata": {},
   "outputs": [
    {
     "data": {
      "image/png": "[encoded data removed]",
      "text/plain": [
       "<Figure size 576x576 with 1 Axes>"
      ]
     },
     "metadata": {
      "needs_background": "light"
     },
     "output_type": "display_data"
    }
   ],
   "source": [
    "plt.figure(figsize=(8, 8))\n",
    "\n",
    "plt.plot((-10, 10), (-10, 10), color='gray')\n",
    "plt.plot(y, predictions, linewidth=0, marker='o', alpha=0.5)\n",
    "plt.grid()\n",
    "plt.xlim((-8.2, 2))\n",
    "plt.ylim((-8.2, 2))\n",
    "plt.xlabel(\"Actual values\")\n",
    "plt.ylabel(\"Predicted values\")\n",
    "plt.show()"
   ]
  },
  {
   "cell_type": "code",
   "execution_count": null,
   "metadata": {},
   "outputs": [],
   "source": [
    "'''\n",
    "Summary\n",
    "This notebook uses data from the Seattle area of Airbnb and has been analyzed to answer the following questions. Here we summarize the answers to those questions.\n",
    "\n",
    "1) How long is the period available for lending by rooms?\n",
    "The histogram of maximum nights shows that there are two groups.\n",
    "One is a listing that can be used at spots such as the maximum number of nights within a week.\n",
    "The other is a listing that supports a wide range of stay from the super long-term stay of the maximum number of stays for three years or more and the minimum number of nights for around two days to the spot use.\n",
    "2) Is there a busy season?\n",
    "The answer is Yes.\n",
    "Apart from the increase in the number of Airbnb users, there was definitely a timely increase in the number of reviews at the same time each year.\n",
    "It is thought that it is about one month around early September and overlaps with the summer vacation time. It is important that the number of properties that can be provided at this time exceeds demand.\n",
    "3) Are there any trends of popular rooms?\n",
    "I could not derive it from my analysis.\n",
    "However, I learned that the score improves by logarithmic transformation. I will find time in the future and try to improve.\n",
    "'''"
   ]
  }
 ],
 "metadata": {
  "kernelspec": {
   "display_name": "Python 3",
   "language": "python",
   "name": "python3"
  },
  "language_info": {
   "codemirror_mode": {
    "name": "ipython",
    "version": 3
   },
   "file_extension": ".py",
   "mimetype": "text/x-python",
   "name": "python",
   "nbconvert_exporter": "python",
   "pygments_lexer": "ipython3",
   "version": "3.7.8"
  }
 },
 "nbformat": 4,
 "nbformat_minor": 4
}
