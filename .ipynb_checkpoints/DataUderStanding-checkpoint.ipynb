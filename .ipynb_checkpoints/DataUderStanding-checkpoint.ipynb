{
 "cells": [
  {
   "cell_type": "code",
   "execution_count": null,
   "metadata": {},
   "outputs": [],
   "source": [
    "'''\n",
    "We have three data.\n",
    "\n",
    "listings: including full descriptions and average review score\n",
    "calendar: including listing id and the price and availability for that day\n",
    "reviews: including unique id for each reviewer and detailed comments\n",
    "In this part, I'll make some visualization and aggregation to understand the charactoristics of the data.\n",
    "'''"
   ]
  }
 ],
 "metadata": {
  "kernelspec": {
   "display_name": "Python 3",
   "language": "python",
   "name": "python3"
  },
  "language_info": {
   "codemirror_mode": {
    "name": "ipython",
    "version": 3
   },
   "file_extension": ".py",
   "mimetype": "text/x-python",
   "name": "python",
   "nbconvert_exporter": "python",
   "pygments_lexer": "ipython3",
   "version": "3.7.8"
  }
 },
 "nbformat": 4,
 "nbformat_minor": 4
}
